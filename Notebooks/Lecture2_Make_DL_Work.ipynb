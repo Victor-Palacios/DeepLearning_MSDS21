{
 "cells": [
  {
   "cell_type": "code",
   "execution_count": 1,
   "metadata": {},
   "outputs": [],
   "source": [
    "import numpy as np\n",
    "import pandas as pd\n",
    "\n",
    "# PyTorch stuff we'll need\n",
    "import torch\n",
    "from torch.utils.data import Dataset\n",
    "from torch.utils.data import DataLoader\n",
    "import torch.nn as nn\n",
    "import torch.optim as optim"
   ]
  },
  {
   "cell_type": "markdown",
   "metadata": {},
   "source": [
    "## Learning Rate Scheduler"
   ]
  },
  {
   "cell_type": "code",
   "execution_count": 2,
   "metadata": {},
   "outputs": [],
   "source": [
    "# model and optimizer\n",
    "model = nn.Sequential(nn.Linear(2, 5),\n",
    "                      nn.ReLU(),\n",
    "                      nn.Linear(5, 1))\n",
    "optimizer = optim.Adam(model.parameters(), lr = 0.001)"
   ]
  },
  {
   "cell_type": "markdown",
   "metadata": {},
   "source": [
    "We can group the parameters of our model into different groups (will be used for transfer learning later)\n",
    "- here we only have one group\n",
    "- note the learning rate"
   ]
  },
  {
   "cell_type": "code",
   "execution_count": 3,
   "metadata": {},
   "outputs": [
    {
     "data": {
      "text/plain": [
       "[{'params': [Parameter containing:\n",
       "   tensor([[-0.3843,  0.0384],\n",
       "           [ 0.4522,  0.1577],\n",
       "           [ 0.3327,  0.2122],\n",
       "           [-0.2092, -0.6796],\n",
       "           [ 0.1233, -0.4563]], requires_grad=True),\n",
       "   Parameter containing:\n",
       "   tensor([ 0.4535, -0.6779,  0.7033,  0.5318, -0.0382], requires_grad=True),\n",
       "   Parameter containing:\n",
       "   tensor([[-0.1363,  0.1813,  0.1070, -0.1269, -0.0951]], requires_grad=True),\n",
       "   Parameter containing:\n",
       "   tensor([-0.1145], requires_grad=True)],\n",
       "  'lr': 0.001,\n",
       "  'betas': (0.9, 0.999),\n",
       "  'eps': 1e-08,\n",
       "  'weight_decay': 0,\n",
       "  'amsgrad': False}]"
      ]
     },
     "execution_count": 3,
     "metadata": {},
     "output_type": "execute_result"
    }
   ],
   "source": [
    "optimizer.param_groups"
   ]
  },
  {
   "cell_type": "markdown",
   "metadata": {},
   "source": [
    "The learning rate scheduler lets us adjust the learning rate according to different schemes\n",
    "- For example the following is [Cosine Annealing](https://pytorch.org/docs/stable/generated/torch.optim.lr_scheduler.CosineAnnealingLR.html#torch.optim.lr_scheduler.CosineAnnealingLR) set for 100 iterations"
   ]
  },
  {
   "cell_type": "code",
   "execution_count": 4,
   "metadata": {},
   "outputs": [],
   "source": [
    "lr_scheduler = torch.optim.lr_scheduler.CosineAnnealingLR(optimizer, 100)"
   ]
  },
  {
   "cell_type": "code",
   "execution_count": 5,
   "metadata": {
    "scrolled": true
   },
   "outputs": [
    {
     "name": "stdout",
     "output_type": "stream",
     "text": [
      "0.001\n",
      "0.0009997532801828658\n"
     ]
    },
    {
     "name": "stderr",
     "output_type": "stream",
     "text": [
      "/Users/mruddy/opt/anaconda3/envs/pytorch_env/lib/python3.8/site-packages/torch/optim/lr_scheduler.py:129: UserWarning: Detected call of `lr_scheduler.step()` before `optimizer.step()`. In PyTorch 1.1.0 and later, you should call them in the opposite order: `optimizer.step()` before `lr_scheduler.step()`.  Failure to do this will result in PyTorch skipping the first value of the learning rate schedule. See more details at https://pytorch.org/docs/stable/optim.html#how-to-adjust-learning-rate\n",
      "  warnings.warn(\"Detected call of `lr_scheduler.step()` before `optimizer.step()`. \"\n"
     ]
    }
   ],
   "source": [
    "# why do you think we are getting an error here?\n",
    "print(optimizer.param_groups[0]['lr'])\n",
    "lr_scheduler.step()\n",
    "print(optimizer.param_groups[0]['lr'])"
   ]
  },
  {
   "cell_type": "code",
   "execution_count": 6,
   "metadata": {},
   "outputs": [
    {
     "name": "stdout",
     "output_type": "stream",
     "text": [
      "0.0009990133642141358\n",
      "0.00099778098230154\n",
      "0.000996057350657239\n",
      "0.0009938441702975688\n",
      "0.0009911436253643444\n",
      "0.0009879583809693736\n",
      "0.0009842915805643154\n",
      "0.0009801468428384714\n",
      "0.0009755282581475767\n",
      "0.0009704403844771127\n"
     ]
    }
   ],
   "source": [
    "for i in range (10):\n",
    "    lr_scheduler.step()\n",
    "    print(optimizer.param_groups[0]['lr'])"
   ]
  },
  {
   "cell_type": "markdown",
   "metadata": {},
   "source": [
    "Try implementing and plotting the learning rate for a [One Cycle](https://pytorch.org/docs/stable/generated/torch.optim.lr_scheduler.OneCycleLR.html#torch.optim.lr_scheduler.OneCycleLR) learning rate"
   ]
  },
  {
   "cell_type": "code",
   "execution_count": null,
   "metadata": {},
   "outputs": [],
   "source": []
  },
  {
   "cell_type": "markdown",
   "metadata": {},
   "source": [
    "## Dropout\n",
    "\n",
    "The layer ```nn.Dropout(p)``` randomly zeros out elements on the input tensor with probability ```p```. The resulting tensor is then scaling by $\\frac{1}{1-p}$.\n",
    "- Keeps output same scale as during test time (no dropout)\n",
    "- Think about it as adding noise with mean 0"
   ]
  },
  {
   "cell_type": "code",
   "execution_count": 7,
   "metadata": {},
   "outputs": [
    {
     "name": "stdout",
     "output_type": "stream",
     "text": [
      "tensor([[1., 1., 1.,  ..., 1., 1., 1.],\n",
      "        [1., 1., 1.,  ..., 1., 1., 1.],\n",
      "        [1., 1., 1.,  ..., 1., 1., 1.],\n",
      "        ...,\n",
      "        [1., 1., 1.,  ..., 1., 1., 1.],\n",
      "        [1., 1., 1.,  ..., 1., 1., 1.],\n",
      "        [1., 1., 1.,  ..., 1., 1., 1.]])\n"
     ]
    },
    {
     "data": {
      "text/plain": [
       "tensor([[1.2500, 0.0000, 1.2500,  ..., 1.2500, 1.2500, 1.2500],\n",
       "        [1.2500, 1.2500, 1.2500,  ..., 1.2500, 1.2500, 1.2500],\n",
       "        [0.0000, 1.2500, 1.2500,  ..., 1.2500, 0.0000, 1.2500],\n",
       "        ...,\n",
       "        [1.2500, 1.2500, 1.2500,  ..., 1.2500, 0.0000, 0.0000],\n",
       "        [1.2500, 1.2500, 0.0000,  ..., 1.2500, 1.2500, 1.2500],\n",
       "        [1.2500, 1.2500, 1.2500,  ..., 1.2500, 1.2500, 0.0000]])"
      ]
     },
     "execution_count": 7,
     "metadata": {},
     "output_type": "execute_result"
    }
   ],
   "source": [
    "drop = nn.Dropout(p=.2)\n",
    "x = torch.ones((100,100))\n",
    "print(x)\n",
    "y = drop(x)\n",
    "y"
   ]
  },
  {
   "cell_type": "code",
   "execution_count": 8,
   "metadata": {},
   "outputs": [],
   "source": [
    "# model with Dropout\n",
    "class TwoLayerNN_drop(nn.Module):\n",
    "    def __init__(self, input_dim, hidden_dim, output_dim):\n",
    "        super(TwoLayerNN_drop, self).__init__()\n",
    "        self.linear1 = nn.Linear(input_dim, hidden_dim)\n",
    "        self.linear2 = nn.Linear(hidden_dim, output_dim)\n",
    "        self.relu = nn.ReLU()\n",
    "        self.dropout = nn.Dropout(p=.25)\n",
    "        \n",
    "    def forward(self, x):\n",
    "        x = self.linear1(x)\n",
    "        x = self.relu(x)\n",
    "        \n",
    "        # Add some dropout after first layer\n",
    "        x = self.dropout(x)\n",
    "        \n",
    "        x = self.linear2(x)\n",
    "        return torch.squeeze(x)"
   ]
  },
  {
   "cell_type": "markdown",
   "metadata": {},
   "source": [
    "## Weight Decay\n",
    "- Let's use [Stochastic Gradient Descent](https://pytorch.org/docs/stable/generated/torch.optim.SGD.html#torch.optim.SGD) with weight decay"
   ]
  },
  {
   "cell_type": "code",
   "execution_count": 10,
   "metadata": {},
   "outputs": [],
   "source": [
    "# blowing up weight decay so you can see it in action\n",
    "\n",
    "model = nn.Sequential(nn.Linear(2, 5),\n",
    "                      nn.ReLU(),\n",
    "                      nn.Linear(5, 1))\n",
    "optimizer = optim.SGD(model.parameters(), lr = 0.001, weight_decay = 1000.0)"
   ]
  },
  {
   "cell_type": "code",
   "execution_count": 11,
   "metadata": {},
   "outputs": [
    {
     "name": "stdout",
     "output_type": "stream",
     "text": [
      "Parameter containing:\n",
      "tensor([[ 0.0916, -0.3457],\n",
      "        [-0.5323,  0.4186],\n",
      "        [ 0.6023, -0.2609],\n",
      "        [ 0.7036, -0.5056],\n",
      "        [-0.0539, -0.6889]], requires_grad=True)\n",
      "Parameter containing:\n",
      "tensor([ 0.6933,  0.4068, -0.6345, -0.5084, -0.5809], requires_grad=True)\n",
      "Parameter containing:\n",
      "tensor([[ 0.2265, -0.0958,  0.3567, -0.3540,  0.2141]], requires_grad=True)\n",
      "Parameter containing:\n",
      "tensor([-0.1624], requires_grad=True)\n"
     ]
    }
   ],
   "source": [
    "for param in model.parameters():\n",
    "    print(param)"
   ]
  },
  {
   "cell_type": "code",
   "execution_count": 12,
   "metadata": {},
   "outputs": [],
   "source": [
    "model.train()\n",
    "y = model(torch.ones(10, 2))\n",
    "\n",
    "# train w.r.t a loss function that wants to maximize output\n",
    "(1/sum(y)).backward()\n",
    "optimizer.step()"
   ]
  },
  {
   "cell_type": "code",
   "execution_count": 13,
   "metadata": {},
   "outputs": [
    {
     "name": "stdout",
     "output_type": "stream",
     "text": [
      "Parameter containing:\n",
      "tensor([[ 2.7365e-03,  2.7366e-03],\n",
      "        [-1.1578e-03, -1.1579e-03],\n",
      "        [ 0.0000e+00,  0.0000e+00],\n",
      "        [-5.9605e-08,  5.9605e-08],\n",
      "        [ 0.0000e+00,  0.0000e+00]], requires_grad=True)\n",
      "Parameter containing:\n",
      "tensor([ 2.7365e-03, -1.1578e-03,  0.0000e+00,  0.0000e+00,  5.9605e-08],\n",
      "       requires_grad=True)\n",
      "Parameter containing:\n",
      "tensor([[ 5.3083e-03,  3.5427e-03,  0.0000e+00,  2.9802e-08, -1.4901e-08]],\n",
      "       requires_grad=True)\n",
      "Parameter containing:\n",
      "tensor([0.0121], requires_grad=True)\n"
     ]
    }
   ],
   "source": [
    "# weights have decreased\n",
    "for param in model.parameters():\n",
    "    print(param)"
   ]
  },
  {
   "cell_type": "markdown",
   "metadata": {},
   "source": [
    "## Batch Normalization"
   ]
  },
  {
   "cell_type": "code",
   "execution_count": 14,
   "metadata": {},
   "outputs": [],
   "source": [
    "# model with batch normalization\n",
    "class TwoLayerNN_BN(nn.Module):\n",
    "    def __init__(self, input_dim, hidden_dim, output_dim):\n",
    "        super(TwoLayerNN_BN, self).__init__()\n",
    "        self.linear1 = nn.Linear(input_dim, hidden_dim)\n",
    "        self.linear2 = nn.Linear(hidden_dim, output_dim)\n",
    "        self.relu = nn.ReLU()\n",
    "        \n",
    "        # we input the number of features to be normalizing across a batch\n",
    "        self.bn = nn.BatchNorm1d(hidden_dim)\n",
    "        \n",
    "    def forward(self, x):\n",
    "        x = self.linear1(x)\n",
    "        \n",
    "        # add batch normalization before activation\n",
    "        x = self.bn(x)\n",
    "        x = self.relu(x)\n",
    "        \n",
    "        x = self.linear2(x)\n",
    "        # no batch norm for final output!\n",
    "        \n",
    "        return torch.squeeze(x)"
   ]
  },
  {
   "cell_type": "code",
   "execution_count": 15,
   "metadata": {},
   "outputs": [
    {
     "name": "stdout",
     "output_type": "stream",
     "text": [
      "Parameter containing:\n",
      "tensor([1., 1., 1., 1., 1.], requires_grad=True)\n",
      "Parameter containing:\n",
      "tensor([0., 0., 0., 0., 0.], requires_grad=True)\n"
     ]
    }
   ],
   "source": [
    "model = TwoLayerNN_BN(2, 5, 1)\n",
    "bn_layer = model.bn\n",
    "\n",
    "# note that batch normalization intializes with pure mini-batch noramlization\n",
    "# will change during training\n",
    "for param in bn_layer.parameters():\n",
    "    print(param)"
   ]
  },
  {
   "cell_type": "markdown",
   "metadata": {},
   "source": [
    "## Early Stopping\n",
    "- ideas\n",
    " * stop training after validation loss does not improve after so many epochs\n",
    " * save model parameters after each epoch if they are a new minimum validation loss"
   ]
  },
  {
   "cell_type": "code",
   "execution_count": 16,
   "metadata": {},
   "outputs": [
    {
     "data": {
      "text/html": [
       "<div>\n",
       "<style scoped>\n",
       "    .dataframe tbody tr th:only-of-type {\n",
       "        vertical-align: middle;\n",
       "    }\n",
       "\n",
       "    .dataframe tbody tr th {\n",
       "        vertical-align: top;\n",
       "    }\n",
       "\n",
       "    .dataframe thead th {\n",
       "        text-align: right;\n",
       "    }\n",
       "</style>\n",
       "<table border=\"1\" class=\"dataframe\">\n",
       "  <thead>\n",
       "    <tr style=\"text-align: right;\">\n",
       "      <th></th>\n",
       "      <th>mpg</th>\n",
       "      <th>cylinders</th>\n",
       "      <th>displacement</th>\n",
       "      <th>horsepower</th>\n",
       "      <th>weight</th>\n",
       "      <th>acceleration</th>\n",
       "      <th>model_year</th>\n",
       "      <th>origin</th>\n",
       "      <th>name</th>\n",
       "    </tr>\n",
       "  </thead>\n",
       "  <tbody>\n",
       "    <tr>\n",
       "      <th>0</th>\n",
       "      <td>18.0</td>\n",
       "      <td>8</td>\n",
       "      <td>307.0</td>\n",
       "      <td>130.0</td>\n",
       "      <td>3504</td>\n",
       "      <td>12.0</td>\n",
       "      <td>70</td>\n",
       "      <td>usa</td>\n",
       "      <td>chevrolet chevelle malibu</td>\n",
       "    </tr>\n",
       "    <tr>\n",
       "      <th>1</th>\n",
       "      <td>15.0</td>\n",
       "      <td>8</td>\n",
       "      <td>350.0</td>\n",
       "      <td>165.0</td>\n",
       "      <td>3693</td>\n",
       "      <td>11.5</td>\n",
       "      <td>70</td>\n",
       "      <td>usa</td>\n",
       "      <td>buick skylark 320</td>\n",
       "    </tr>\n",
       "    <tr>\n",
       "      <th>2</th>\n",
       "      <td>18.0</td>\n",
       "      <td>8</td>\n",
       "      <td>318.0</td>\n",
       "      <td>150.0</td>\n",
       "      <td>3436</td>\n",
       "      <td>11.0</td>\n",
       "      <td>70</td>\n",
       "      <td>usa</td>\n",
       "      <td>plymouth satellite</td>\n",
       "    </tr>\n",
       "    <tr>\n",
       "      <th>3</th>\n",
       "      <td>16.0</td>\n",
       "      <td>8</td>\n",
       "      <td>304.0</td>\n",
       "      <td>150.0</td>\n",
       "      <td>3433</td>\n",
       "      <td>12.0</td>\n",
       "      <td>70</td>\n",
       "      <td>usa</td>\n",
       "      <td>amc rebel sst</td>\n",
       "    </tr>\n",
       "    <tr>\n",
       "      <th>4</th>\n",
       "      <td>17.0</td>\n",
       "      <td>8</td>\n",
       "      <td>302.0</td>\n",
       "      <td>140.0</td>\n",
       "      <td>3449</td>\n",
       "      <td>10.5</td>\n",
       "      <td>70</td>\n",
       "      <td>usa</td>\n",
       "      <td>ford torino</td>\n",
       "    </tr>\n",
       "  </tbody>\n",
       "</table>\n",
       "</div>"
      ],
      "text/plain": [
       "    mpg  cylinders  displacement  horsepower  weight  acceleration  \\\n",
       "0  18.0          8         307.0       130.0    3504          12.0   \n",
       "1  15.0          8         350.0       165.0    3693          11.5   \n",
       "2  18.0          8         318.0       150.0    3436          11.0   \n",
       "3  16.0          8         304.0       150.0    3433          12.0   \n",
       "4  17.0          8         302.0       140.0    3449          10.5   \n",
       "\n",
       "   model_year origin                       name  \n",
       "0          70    usa  chevrolet chevelle malibu  \n",
       "1          70    usa          buick skylark 320  \n",
       "2          70    usa         plymouth satellite  \n",
       "3          70    usa              amc rebel sst  \n",
       "4          70    usa                ford torino  "
      ]
     },
     "execution_count": 16,
     "metadata": {},
     "output_type": "execute_result"
    }
   ],
   "source": [
    "import seaborn as sns\n",
    "mpg = sns.load_dataset('mpg')\n",
    "mpg.head()"
   ]
  },
  {
   "cell_type": "code",
   "execution_count": 17,
   "metadata": {},
   "outputs": [],
   "source": [
    "class MPGDataset(Dataset):\n",
    "    def __init__(self, df):\n",
    "        self.df = df\n",
    "    \n",
    "    def __len__(self):\n",
    "        return len(self.df)\n",
    "    \n",
    "    def __getitem__(self, idx):\n",
    "        row = self.df.iloc[idx]\n",
    "        x = torch.tensor([row['displacement'],\n",
    "                          row['weight']]).float()\n",
    "        \n",
    "        y = torch.tensor(row['mpg']).float()\n",
    "        \n",
    "        return x, y\n",
    "\n",
    "# train/val split\n",
    "mpg_train = mpg[100:].reset_index(drop=True)\n",
    "mpg_val = mpg[:100].reset_index(drop=True)\n",
    "mpg_train_ds = MPGDataset(mpg_train)\n",
    "mpg_val_ds = MPGDataset(mpg_val)\n",
    "\n",
    "# load into dataloader\n",
    "mpg_train_dl = DataLoader(mpg_train_ds, batch_size=50, shuffle=True)\n",
    "mpg_val_dl = DataLoader(mpg_val_ds, batch_size=100, shuffle=False)"
   ]
  },
  {
   "cell_type": "code",
   "execution_count": 18,
   "metadata": {},
   "outputs": [],
   "source": [
    "# vanilla two-layer\n",
    "class TwoLayerNN(nn.Module):\n",
    "    def __init__(self, input_dim, hidden_dim, output_dim):\n",
    "        super(TwoLayerNN, self).__init__()\n",
    "        self.linear1 = nn.Linear(input_dim, hidden_dim)\n",
    "        self.linear2 = nn.Linear(hidden_dim, output_dim)\n",
    "        self.relu = nn.ReLU()\n",
    "        \n",
    "    def forward(self, x):\n",
    "        x = self.linear1(x)\n",
    "        x = self.relu(x)     \n",
    "        x = self.linear2(x)\n",
    "        return torch.squeeze(x)"
   ]
  },
  {
   "cell_type": "code",
   "execution_count": 19,
   "metadata": {},
   "outputs": [],
   "source": [
    "# large network to induce overfitting\n",
    "model = TwoLayerNN(2, 10, 1)\n",
    "lossFun = nn.L1Loss()\n",
    "optimizer = optim.Adam(model.parameters(), lr = 0.001)"
   ]
  },
  {
   "cell_type": "code",
   "execution_count": 20,
   "metadata": {
    "scrolled": false
   },
   "outputs": [
    {
     "data": {
      "application/vnd.jupyter.widget-view+json": {
       "model_id": "de4046d39c3a40209f5d081d4c7cf13a",
       "version_major": 2,
       "version_minor": 0
      },
      "text/plain": [
       "  0%|          | 0/500 [00:00<?, ?it/s]"
      ]
     },
     "metadata": {},
     "output_type": "display_data"
    }
   ],
   "source": [
    "from tqdm.notebook import tqdm\n",
    "\n",
    "# collect losses\n",
    "avg_train = []\n",
    "avg_val = []\n",
    "\n",
    "for epoch in tqdm(range(500)):\n",
    "    train_losses = []\n",
    "    for x, y in mpg_train_dl:\n",
    "        \n",
    "        model.train()\n",
    "        \n",
    "        y_pred = model(x)\n",
    "        loss = lossFun(y_pred, y)\n",
    "        train_losses.append(loss.item())\n",
    "        \n",
    "        optimizer.zero_grad()\n",
    "        \n",
    "        loss.backward()\n",
    "        optimizer.step()\n",
    "    \n",
    "    avg_train.append(sum(train_losses) / len(train_losses))\n",
    "    \n",
    "    for x, y in mpg_val_dl:\n",
    "        model.eval()\n",
    "        \n",
    "        y_pred = model(x)\n",
    "        loss = lossFun(y_pred, y)\n",
    "        \n",
    "        avg_val.append(loss.item())"
   ]
  },
  {
   "cell_type": "code",
   "execution_count": 21,
   "metadata": {},
   "outputs": [
    {
     "data": {
      "image/png": "[encoded data removed]",
      "text/plain": [
       "<Figure size 432x288 with 1 Axes>"
      ]
     },
     "metadata": {
      "needs_background": "light"
     },
     "output_type": "display_data"
    }
   ],
   "source": [
    "import matplotlib.pyplot as plt\n",
    "\n",
    "# plot losses\n",
    "plt.plot(avg_train)\n",
    "plt.plot(avg_val)\n",
    "plt.show()"
   ]
  },
  {
   "cell_type": "markdown",
   "metadata": {},
   "source": [
    "What about with batch normalization?"
   ]
  },
  {
   "cell_type": "code",
   "execution_count": 22,
   "metadata": {},
   "outputs": [
    {
     "data": {
      "application/vnd.jupyter.widget-view+json": {
       "model_id": "f195ed75623b44a6bf090d9c97b03cff",
       "version_major": 2,
       "version_minor": 0
      },
      "text/plain": [
       "  0%|          | 0/500 [00:00<?, ?it/s]"
      ]
     },
     "metadata": {},
     "output_type": "display_data"
    },
    {
     "data": {
      "image/png": "[encoded data removed]",
      "text/plain": [
       "<Figure size 432x288 with 1 Axes>"
      ]
     },
     "metadata": {
      "needs_background": "light"
     },
     "output_type": "display_data"
    }
   ],
   "source": [
    "model = TwoLayerNN_BN(2, 10, 1)\n",
    "lossFun = nn.L1Loss()\n",
    "optimizer = optim.Adam(model.parameters(), lr = 0.001)\n",
    "\n",
    "# collect losses\n",
    "avg_train = []\n",
    "avg_val = []\n",
    "\n",
    "for epoch in tqdm(range(500)):\n",
    "    train_losses = []\n",
    "    for x, y in mpg_train_dl:\n",
    "        \n",
    "        model.train()\n",
    "        \n",
    "        y_pred = model(x)\n",
    "        loss = lossFun(y_pred, y)\n",
    "        train_losses.append(loss.item())\n",
    "        \n",
    "        optimizer.zero_grad()\n",
    "        \n",
    "        loss.backward()\n",
    "        optimizer.step()\n",
    "    \n",
    "    avg_train.append(sum(train_losses) / len(train_losses))\n",
    "    \n",
    "    for x, y in mpg_val_dl:\n",
    "        model.eval()\n",
    "        \n",
    "        y_pred = model(x)\n",
    "        loss = lossFun(y_pred, y)\n",
    "        \n",
    "        avg_val.append(loss.item())\n",
    "        \n",
    "plt.plot(avg_train)\n",
    "plt.plot(avg_val)\n",
    "plt.show()"
   ]
  },
  {
   "cell_type": "markdown",
   "metadata": {},
   "source": [
    "## Categorical Embeddings\n",
    "- let's include the make of the car in our model"
   ]
  },
  {
   "cell_type": "code",
   "execution_count": 23,
   "metadata": {},
   "outputs": [
    {
     "data": {
      "text/html": [
       "<div>\n",
       "<style scoped>\n",
       "    .dataframe tbody tr th:only-of-type {\n",
       "        vertical-align: middle;\n",
       "    }\n",
       "\n",
       "    .dataframe tbody tr th {\n",
       "        vertical-align: top;\n",
       "    }\n",
       "\n",
       "    .dataframe thead th {\n",
       "        text-align: right;\n",
       "    }\n",
       "</style>\n",
       "<table border=\"1\" class=\"dataframe\">\n",
       "  <thead>\n",
       "    <tr style=\"text-align: right;\">\n",
       "      <th></th>\n",
       "      <th>mpg</th>\n",
       "      <th>cylinders</th>\n",
       "      <th>displacement</th>\n",
       "      <th>horsepower</th>\n",
       "      <th>weight</th>\n",
       "      <th>acceleration</th>\n",
       "      <th>model_year</th>\n",
       "      <th>origin</th>\n",
       "      <th>name</th>\n",
       "    </tr>\n",
       "  </thead>\n",
       "  <tbody>\n",
       "    <tr>\n",
       "      <th>0</th>\n",
       "      <td>18.0</td>\n",
       "      <td>8</td>\n",
       "      <td>307.0</td>\n",
       "      <td>130.0</td>\n",
       "      <td>3504</td>\n",
       "      <td>12.0</td>\n",
       "      <td>70</td>\n",
       "      <td>usa</td>\n",
       "      <td>chevrolet chevelle malibu</td>\n",
       "    </tr>\n",
       "    <tr>\n",
       "      <th>1</th>\n",
       "      <td>15.0</td>\n",
       "      <td>8</td>\n",
       "      <td>350.0</td>\n",
       "      <td>165.0</td>\n",
       "      <td>3693</td>\n",
       "      <td>11.5</td>\n",
       "      <td>70</td>\n",
       "      <td>usa</td>\n",
       "      <td>buick skylark 320</td>\n",
       "    </tr>\n",
       "    <tr>\n",
       "      <th>2</th>\n",
       "      <td>18.0</td>\n",
       "      <td>8</td>\n",
       "      <td>318.0</td>\n",
       "      <td>150.0</td>\n",
       "      <td>3436</td>\n",
       "      <td>11.0</td>\n",
       "      <td>70</td>\n",
       "      <td>usa</td>\n",
       "      <td>plymouth satellite</td>\n",
       "    </tr>\n",
       "    <tr>\n",
       "      <th>3</th>\n",
       "      <td>16.0</td>\n",
       "      <td>8</td>\n",
       "      <td>304.0</td>\n",
       "      <td>150.0</td>\n",
       "      <td>3433</td>\n",
       "      <td>12.0</td>\n",
       "      <td>70</td>\n",
       "      <td>usa</td>\n",
       "      <td>amc rebel sst</td>\n",
       "    </tr>\n",
       "    <tr>\n",
       "      <th>4</th>\n",
       "      <td>17.0</td>\n",
       "      <td>8</td>\n",
       "      <td>302.0</td>\n",
       "      <td>140.0</td>\n",
       "      <td>3449</td>\n",
       "      <td>10.5</td>\n",
       "      <td>70</td>\n",
       "      <td>usa</td>\n",
       "      <td>ford torino</td>\n",
       "    </tr>\n",
       "  </tbody>\n",
       "</table>\n",
       "</div>"
      ],
      "text/plain": [
       "    mpg  cylinders  displacement  horsepower  weight  acceleration  \\\n",
       "0  18.0          8         307.0       130.0    3504          12.0   \n",
       "1  15.0          8         350.0       165.0    3693          11.5   \n",
       "2  18.0          8         318.0       150.0    3436          11.0   \n",
       "3  16.0          8         304.0       150.0    3433          12.0   \n",
       "4  17.0          8         302.0       140.0    3449          10.5   \n",
       "\n",
       "   model_year origin                       name  \n",
       "0          70    usa  chevrolet chevelle malibu  \n",
       "1          70    usa          buick skylark 320  \n",
       "2          70    usa         plymouth satellite  \n",
       "3          70    usa              amc rebel sst  \n",
       "4          70    usa                ford torino  "
      ]
     },
     "execution_count": 23,
     "metadata": {},
     "output_type": "execute_result"
    }
   ],
   "source": [
    "mpg.head()"
   ]
  },
  {
   "cell_type": "code",
   "execution_count": 24,
   "metadata": {},
   "outputs": [
    {
     "data": {
      "text/html": [
       "<div>\n",
       "<style scoped>\n",
       "    .dataframe tbody tr th:only-of-type {\n",
       "        vertical-align: middle;\n",
       "    }\n",
       "\n",
       "    .dataframe tbody tr th {\n",
       "        vertical-align: top;\n",
       "    }\n",
       "\n",
       "    .dataframe thead th {\n",
       "        text-align: right;\n",
       "    }\n",
       "</style>\n",
       "<table border=\"1\" class=\"dataframe\">\n",
       "  <thead>\n",
       "    <tr style=\"text-align: right;\">\n",
       "      <th></th>\n",
       "      <th>mpg</th>\n",
       "      <th>cylinders</th>\n",
       "      <th>displacement</th>\n",
       "      <th>horsepower</th>\n",
       "      <th>weight</th>\n",
       "      <th>acceleration</th>\n",
       "      <th>model_year</th>\n",
       "      <th>origin</th>\n",
       "      <th>name</th>\n",
       "      <th>make</th>\n",
       "    </tr>\n",
       "  </thead>\n",
       "  <tbody>\n",
       "    <tr>\n",
       "      <th>0</th>\n",
       "      <td>18.0</td>\n",
       "      <td>8</td>\n",
       "      <td>307.0</td>\n",
       "      <td>130.0</td>\n",
       "      <td>3504</td>\n",
       "      <td>12.0</td>\n",
       "      <td>70</td>\n",
       "      <td>usa</td>\n",
       "      <td>chevrolet chevelle malibu</td>\n",
       "      <td>chevrolet</td>\n",
       "    </tr>\n",
       "    <tr>\n",
       "      <th>1</th>\n",
       "      <td>15.0</td>\n",
       "      <td>8</td>\n",
       "      <td>350.0</td>\n",
       "      <td>165.0</td>\n",
       "      <td>3693</td>\n",
       "      <td>11.5</td>\n",
       "      <td>70</td>\n",
       "      <td>usa</td>\n",
       "      <td>buick skylark 320</td>\n",
       "      <td>buick</td>\n",
       "    </tr>\n",
       "    <tr>\n",
       "      <th>2</th>\n",
       "      <td>18.0</td>\n",
       "      <td>8</td>\n",
       "      <td>318.0</td>\n",
       "      <td>150.0</td>\n",
       "      <td>3436</td>\n",
       "      <td>11.0</td>\n",
       "      <td>70</td>\n",
       "      <td>usa</td>\n",
       "      <td>plymouth satellite</td>\n",
       "      <td>plymouth</td>\n",
       "    </tr>\n",
       "    <tr>\n",
       "      <th>3</th>\n",
       "      <td>16.0</td>\n",
       "      <td>8</td>\n",
       "      <td>304.0</td>\n",
       "      <td>150.0</td>\n",
       "      <td>3433</td>\n",
       "      <td>12.0</td>\n",
       "      <td>70</td>\n",
       "      <td>usa</td>\n",
       "      <td>amc rebel sst</td>\n",
       "      <td>amc</td>\n",
       "    </tr>\n",
       "    <tr>\n",
       "      <th>4</th>\n",
       "      <td>17.0</td>\n",
       "      <td>8</td>\n",
       "      <td>302.0</td>\n",
       "      <td>140.0</td>\n",
       "      <td>3449</td>\n",
       "      <td>10.5</td>\n",
       "      <td>70</td>\n",
       "      <td>usa</td>\n",
       "      <td>ford torino</td>\n",
       "      <td>ford</td>\n",
       "    </tr>\n",
       "  </tbody>\n",
       "</table>\n",
       "</div>"
      ],
      "text/plain": [
       "    mpg  cylinders  displacement  horsepower  weight  acceleration  \\\n",
       "0  18.0          8         307.0       130.0    3504          12.0   \n",
       "1  15.0          8         350.0       165.0    3693          11.5   \n",
       "2  18.0          8         318.0       150.0    3436          11.0   \n",
       "3  16.0          8         304.0       150.0    3433          12.0   \n",
       "4  17.0          8         302.0       140.0    3449          10.5   \n",
       "\n",
       "   model_year origin                       name       make  \n",
       "0          70    usa  chevrolet chevelle malibu  chevrolet  \n",
       "1          70    usa          buick skylark 320      buick  \n",
       "2          70    usa         plymouth satellite   plymouth  \n",
       "3          70    usa              amc rebel sst        amc  \n",
       "4          70    usa                ford torino       ford  "
      ]
     },
     "execution_count": 24,
     "metadata": {},
     "output_type": "execute_result"
    }
   ],
   "source": [
    "makes = []\n",
    "for idx in range(len(mpg)):\n",
    "    row = mpg.iloc[idx]\n",
    "    makes.append(row['name'].split(' ')[0])\n",
    "mpg['make'] = makes\n",
    "mpg.head()"
   ]
  },
  {
   "cell_type": "code",
   "execution_count": 25,
   "metadata": {},
   "outputs": [
    {
     "data": {
      "text/plain": [
       "{'hi': 0,\n",
       " 'maxda': 1,\n",
       " 'nissan': 2,\n",
       " 'opel': 3,\n",
       " 'volvo': 4,\n",
       " 'chevrolet': 5,\n",
       " 'dodge': 6,\n",
       " 'chevroelt': 7,\n",
       " 'vw': 8,\n",
       " 'mazda': 9,\n",
       " 'oldsmobile': 10,\n",
       " 'mercedes-benz': 11,\n",
       " 'vokswagen': 12,\n",
       " 'cadillac': 13,\n",
       " 'saab': 14,\n",
       " 'chevy': 15,\n",
       " 'toyouta': 16,\n",
       " 'volkswagen': 17,\n",
       " 'plymouth': 18,\n",
       " 'mercedes': 19,\n",
       " 'capri': 20,\n",
       " 'buick': 21,\n",
       " 'honda': 22,\n",
       " 'triumph': 23,\n",
       " 'ford': 24,\n",
       " 'fiat': 25,\n",
       " 'renault': 26,\n",
       " 'toyota': 27,\n",
       " 'bmw': 28,\n",
       " 'mercury': 29,\n",
       " 'chrysler': 30,\n",
       " 'amc': 31,\n",
       " 'subaru': 32,\n",
       " 'audi': 33,\n",
       " 'datsun': 34,\n",
       " 'pontiac': 35,\n",
       " 'peugeot': 36}"
      ]
     },
     "execution_count": 25,
     "metadata": {},
     "output_type": "execute_result"
    }
   ],
   "source": [
    "# create an index for possible values of make\n",
    "# sort of like a one-hot-encoding here\n",
    "make_dict = {make: i for i, make in enumerate(set(makes))}\n",
    "make_dict"
   ]
  },
  {
   "cell_type": "code",
   "execution_count": 26,
   "metadata": {},
   "outputs": [
    {
     "data": {
      "text/plain": [
       "(tensor([ 307., 3504.]), tensor(5), tensor(18.))"
      ]
     },
     "execution_count": 26,
     "metadata": {},
     "output_type": "execute_result"
    }
   ],
   "source": [
    "class MPGDataset(Dataset):\n",
    "    def __init__(self, df):\n",
    "        self.df = df\n",
    "    \n",
    "    def __len__(self):\n",
    "        return len(self.df)\n",
    "    \n",
    "    def __getitem__(self, idx):\n",
    "        row = self.df.iloc[idx]\n",
    "        make_idx = make_dict[row['make']]\n",
    "        \n",
    "        x1 = torch.tensor([row['displacement'],\n",
    "                          row['weight']]).float()\n",
    "        \n",
    "        x2 = torch.tensor(make_idx)\n",
    "        \n",
    "        y = torch.tensor(row['mpg']).float()\n",
    "        \n",
    "        return x1, x2, y\n",
    "    \n",
    "mpg_ds = MPGDataset(mpg)\n",
    "\n",
    "# note the second tensor\n",
    "next(iter(mpg_ds))"
   ]
  },
  {
   "cell_type": "code",
   "execution_count": 27,
   "metadata": {},
   "outputs": [],
   "source": [
    "# let's add an embedding layer\n",
    "class TwoLayerNN_Emb(nn.Module):\n",
    "    def __init__(self, input_dim, hidden_dim, output_dim):\n",
    "        super(TwoLayerNN_Emb, self).__init__()\n",
    "        self.linear1 = nn.Linear(input_dim, hidden_dim)\n",
    "        self.linear2 = nn.Linear(hidden_dim, output_dim)\n",
    "        \n",
    "        # first argument is number of values, next is size of embedding\n",
    "        self.emb = nn.Embedding(len(make_dict), 2)\n",
    "        \n",
    "        # let's keep in batch normalization\n",
    "        self.bn = nn.BatchNorm1d(hidden_dim)\n",
    "        self.relu = nn.ReLU()\n",
    "        \n",
    "    def forward(self, x1, x2):\n",
    "        \n",
    "        x2 = self.emb(x2)\n",
    "        \n",
    "        # concatenate the vectors along dim=1, skipping batch dim\n",
    "        x = torch.cat((x1, x2), dim=1)\n",
    "        \n",
    "        x = self.linear1(x)\n",
    "        x = self.bn(x)\n",
    "        x = self.relu(x)\n",
    "        \n",
    "        x = self.linear2(x)\n",
    "        \n",
    "        return torch.squeeze(x)"
   ]
  },
  {
   "cell_type": "code",
   "execution_count": 29,
   "metadata": {},
   "outputs": [
    {
     "data": {
      "text/plain": [
       "tensor([ 0.2747,  0.0255,  0.0156, -0.0200, -0.0629,  0.2738,  0.3669,  0.1282,\n",
       "        -0.2217,  0.0352,  0.2713,  0.3461,  0.2559,  0.1992, -0.1745,  0.1129,\n",
       "        -0.4905,  0.1851,  0.1871,  0.0125,  0.1986,  0.0280,  0.2584,  0.2194,\n",
       "         0.1096,  0.3438,  0.1726,  0.1632,  0.3431,  0.2032,  0.2520, -0.3816,\n",
       "         0.2649,  0.2775,  0.2579,  0.2208,  0.2265,  0.3569,  0.2672,  0.1927,\n",
       "         0.0733,  0.1992,  0.0933,  0.1273, -0.2634,  0.0473, -0.0079, -0.0166,\n",
       "         0.0304,  0.3636], grad_fn=<SqueezeBackward0>)"
      ]
     },
     "execution_count": 29,
     "metadata": {},
     "output_type": "execute_result"
    }
   ],
   "source": [
    "mpg_dl = DataLoader(mpg_ds, batch_size=50, shuffle=True)\n",
    "\n",
    "# what is the correct dimension here?\n",
    "model = TwoLayerNN_Emb(?, 5, 1)\n",
    "x1, x2, y = next(iter(mpg_dl))\n",
    "model(x1, x2)"
   ]
  },
  {
   "cell_type": "markdown",
   "metadata": {},
   "source": [
    "Let's train it the same way we did above"
   ]
  },
  {
   "cell_type": "code",
   "execution_count": 30,
   "metadata": {},
   "outputs": [],
   "source": [
    "# train/val split\n",
    "mpg_train = mpg[100:].reset_index(drop=True)\n",
    "mpg_val = mpg[:100].reset_index(drop=True)\n",
    "mpg_train_ds = MPGDataset(mpg_train)\n",
    "mpg_val_ds = MPGDataset(mpg_val)\n",
    "\n",
    "# load into dataloader\n",
    "mpg_train_dl = DataLoader(mpg_train_ds, batch_size=50, shuffle=True)\n",
    "mpg_val_dl = DataLoader(mpg_val_ds, batch_size=100, shuffle=False)"
   ]
  },
  {
   "cell_type": "code",
   "execution_count": 31,
   "metadata": {},
   "outputs": [
    {
     "data": {
      "application/vnd.jupyter.widget-view+json": {
       "model_id": "161c65b843f542bc9f991965cefc50b2",
       "version_major": 2,
       "version_minor": 0
      },
      "text/plain": [
       "  0%|          | 0/500 [00:00<?, ?it/s]"
      ]
     },
     "metadata": {},
     "output_type": "display_data"
    }
   ],
   "source": [
    "lossFun = nn.L1Loss()\n",
    "optimizer = optim.Adam(model.parameters(), lr = 0.001)\n",
    "\n",
    "# collect losses\n",
    "avg_train = []\n",
    "avg_val = []\n",
    "\n",
    "for epoch in tqdm(range(500)):\n",
    "    train_losses = []\n",
    "    for x1, x2, y in mpg_train_dl:\n",
    "        \n",
    "        model.train()\n",
    "        \n",
    "        y_pred = model(x1, x2)\n",
    "        loss = lossFun(y_pred, y)\n",
    "        train_losses.append(loss.item())\n",
    "        \n",
    "        optimizer.zero_grad()\n",
    "        \n",
    "        loss.backward()\n",
    "        optimizer.step()\n",
    "    \n",
    "    avg_train.append(sum(train_losses) / len(train_losses))\n",
    "    \n",
    "    for x1, x2, y in mpg_val_dl:\n",
    "        model.eval()\n",
    "        \n",
    "        y_pred = model(x1, x2)\n",
    "        loss = lossFun(y_pred, y)\n",
    "        \n",
    "        avg_val.append(loss.item())"
   ]
  },
  {
   "cell_type": "code",
   "execution_count": 32,
   "metadata": {},
   "outputs": [
    {
     "data": {
      "image/png": "[encoded data removed]",
      "text/plain": [
       "<Figure size 432x288 with 1 Axes>"
      ]
     },
     "metadata": {
      "needs_background": "light"
     },
     "output_type": "display_data"
    }
   ],
   "source": [
    "plt.plot(avg_train)\n",
    "plt.plot(avg_val)\n",
    "plt.show()"
   ]
  },
  {
   "cell_type": "code",
   "execution_count": 33,
   "metadata": {},
   "outputs": [
    {
     "name": "stdout",
     "output_type": "stream",
     "text": [
      "Parameter containing:\n",
      "tensor([[ 1.2484e+00, -1.9823e+00],\n",
      "        [ 1.0901e+00, -1.0681e+00],\n",
      "        [-2.2786e+00, -3.1906e-01],\n",
      "        [ 3.5918e+00, -3.1146e-01],\n",
      "        [ 1.6091e+00,  2.0444e+00],\n",
      "        [ 7.6363e-02,  1.3042e+00],\n",
      "        [-7.8962e-01, -7.5728e-01],\n",
      "        [ 2.2748e+00, -1.3825e+00],\n",
      "        [-4.2404e-01, -1.1995e+00],\n",
      "        [ 1.9134e+00, -9.7031e-01],\n",
      "        [-2.4271e+00,  1.6282e+00],\n",
      "        [ 2.0617e+00,  6.5937e-02],\n",
      "        [ 9.0568e-01, -1.0628e+00],\n",
      "        [ 3.0318e-01,  5.3386e-01],\n",
      "        [ 9.7642e-01,  1.6910e+00],\n",
      "        [-1.7186e+00,  1.6370e+00],\n",
      "        [ 1.9963e-01,  1.1020e+00],\n",
      "        [ 2.5825e+00, -2.2256e+00],\n",
      "        [-3.6761e-01, -6.7609e-01],\n",
      "        [-1.1743e+00, -6.3634e-01],\n",
      "        [-1.0682e+00,  5.4431e-02],\n",
      "        [-2.0933e+00,  2.9280e+00],\n",
      "        [ 1.1894e+00, -4.8345e-01],\n",
      "        [-2.9840e+00, -2.0543e-01],\n",
      "        [-2.4898e-01,  2.0669e+00],\n",
      "        [ 3.1518e+00, -7.4659e-01],\n",
      "        [-3.6396e-02,  1.9744e-02],\n",
      "        [ 3.2305e-01,  1.5614e+00],\n",
      "        [-8.7318e-01,  6.8298e-01],\n",
      "        [-1.3108e+00,  8.5188e-01],\n",
      "        [-4.0303e-01, -9.6466e-04],\n",
      "        [-9.6513e-01,  2.1261e+00],\n",
      "        [-9.1753e-02, -3.6458e-01],\n",
      "        [ 1.5719e+00,  1.2633e+00],\n",
      "        [ 7.5896e-01,  6.9225e-01],\n",
      "        [-2.4907e+00,  2.4006e+00],\n",
      "        [ 1.8676e+00,  2.5555e-01]], requires_grad=True)\n"
     ]
    }
   ],
   "source": [
    "# let's look at the embedding matrix\n",
    "for param in model.emb.parameters():\n",
    "    print(param)"
   ]
  },
  {
   "cell_type": "code",
   "execution_count": null,
   "metadata": {},
   "outputs": [],
   "source": [
    "# compare embeddings for vw and volkswagon\n",
    "for param in model.emb.parameters():\n",
    "    print(param[?], param[?])"
   ]
  },
  {
   "cell_type": "code",
   "execution_count": null,
   "metadata": {},
   "outputs": [],
   "source": []
  }
 ],
 "metadata": {
  "kernelspec": {
   "display_name": "Python 3",
   "language": "python",
   "name": "python3"
  },
  "language_info": {
   "codemirror_mode": {
    "name": "ipython",
    "version": 3
   },
   "file_extension": ".py",
   "mimetype": "text/x-python",
   "name": "python",
   "nbconvert_exporter": "python",
   "pygments_lexer": "ipython3",
   "version": "3.8.10"
  }
 },
 "nbformat": 4,
 "nbformat_minor": 4
}
