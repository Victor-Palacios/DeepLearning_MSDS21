{
 "cells": [
  {
   "cell_type": "code",
   "execution_count": null,
   "metadata": {},
   "outputs": [],
   "source": [
    "import numpy as np\n",
    "import pandas as pd\n",
    "\n",
    "# PyTorch stuff we'll need\n",
    "import torch\n",
    "from torch.utils.data import Dataset\n",
    "from torch.utils.data import DataLoader\n",
    "import torch.nn as nn\n",
    "import torch.optim as optim"
   ]
  },
  {
   "cell_type": "markdown",
   "metadata": {},
   "source": [
    "## Learning Rate Scheduler"
   ]
  },
  {
   "cell_type": "code",
   "execution_count": null,
   "metadata": {},
   "outputs": [],
   "source": [
    "# model and optimizer\n",
    "model = nn.Sequential(nn.Linear(2, 5),\n",
    "                      nn.ReLU(),\n",
    "                      nn.Linear(5, 1))\n",
    "optimizer = optim.Adam(model.parameters(), lr = 0.001)"
   ]
  },
  {
   "cell_type": "markdown",
   "metadata": {},
   "source": [
    "We can group the parameters of our model into different groups (will be used for transfer learning later)\n",
    "- here we only have one group\n",
    "- note the learning rate"
   ]
  },
  {
   "cell_type": "code",
   "execution_count": null,
   "metadata": {},
   "outputs": [],
   "source": [
    "optimizer.param_groups"
   ]
  },
  {
   "cell_type": "markdown",
   "metadata": {},
   "source": [
    "The learning rate scheduler lets us adjust the learning rate according to different schemes\n",
    "- For example the following is [Cosine Annealing](https://pytorch.org/docs/stable/generated/torch.optim.lr_scheduler.CosineAnnealingLR.html#torch.optim.lr_scheduler.CosineAnnealingLR) set for 100 iterations"
   ]
  },
  {
   "cell_type": "code",
   "execution_count": null,
   "metadata": {},
   "outputs": [],
   "source": [
    "lr_scheduler = torch.optim.lr_scheduler.CosineAnnealingLR(optimizer, 100)"
   ]
  },
  {
   "cell_type": "code",
   "execution_count": null,
   "metadata": {
    "scrolled": true
   },
   "outputs": [],
   "source": [
    "# why do you think we are getting an error here?\n",
    "print(optimizer.param_groups[0]['lr'])\n",
    "lr_scheduler.step()\n",
    "print(optimizer.param_groups[0]['lr'])"
   ]
  },
  {
   "cell_type": "code",
   "execution_count": null,
   "metadata": {},
   "outputs": [],
   "source": [
    "for i in range (10):\n",
    "    lr_scheduler.step()\n",
    "    print(optimizer.param_groups[0]['lr'])"
   ]
  },
  {
   "cell_type": "markdown",
   "metadata": {},
   "source": [
    "Try implementing and plotting the learning rate for a [One Cycle](https://pytorch.org/docs/stable/generated/torch.optim.lr_scheduler.OneCycleLR.html#torch.optim.lr_scheduler.OneCycleLR) learning rate"
   ]
  },
  {
   "cell_type": "code",
   "execution_count": null,
   "metadata": {},
   "outputs": [],
   "source": []
  },
  {
   "cell_type": "markdown",
   "metadata": {},
   "source": [
    "## Dropout\n",
    "\n",
    "The layer ```nn.Dropout(p)``` randomly zeros out elements on the input tensor with probability ```p```. The resulting tensor is then scaling by $\\frac{1}{1-p}$.\n",
    "- Keeps output same scale as during test time (no dropout)\n",
    "- Think about it as making it so that Dropout is adding noise with mean 0"
   ]
  },
  {
   "cell_type": "code",
   "execution_count": null,
   "metadata": {},
   "outputs": [],
   "source": [
    "drop = nn.Dropout(p=.2)\n",
    "x = torch.ones((100,100))\n",
    "print(x)\n",
    "y = drop(x)\n",
    "y"
   ]
  },
  {
   "cell_type": "code",
   "execution_count": null,
   "metadata": {},
   "outputs": [],
   "source": [
    "# model with Dropout\n",
    "class TwoLayerNN_drop(nn.Module):\n",
    "    def __init__(self, input_dim, hidden_dim, output_dim):\n",
    "        super(TwoLayerNN_drop, self).__init__()\n",
    "        self.linear1 = nn.Linear(input_dim, hidden_dim)\n",
    "        self.linear2 = nn.Linear(hidden_dim, output_dim)\n",
    "        self.relu = nn.ReLU()\n",
    "        self.dropout = nn.Dropout(p=.25)\n",
    "        \n",
    "    def forward(self, x):\n",
    "        x = self.linear1(x)\n",
    "        x = self.relu(x)\n",
    "        \n",
    "        # Add some dropout after first layer\n",
    "        x = self.dropout(x)\n",
    "        \n",
    "        x = self.linear2(x)\n",
    "        return torch.squeeze(x)"
   ]
  },
  {
   "cell_type": "markdown",
   "metadata": {},
   "source": [
    "## Weight Decay\n",
    "- Let's use [Stochastic Gradient Descent](https://pytorch.org/docs/stable/generated/torch.optim.SGD.html#torch.optim.SGD) with weight decay"
   ]
  },
  {
   "cell_type": "code",
   "execution_count": null,
   "metadata": {},
   "outputs": [],
   "source": [
    "# blowing up weight decay so you can see it in action\n",
    "\n",
    "model = nn.Sequential(nn.Linear(2, 5),\n",
    "                      nn.ReLU(),\n",
    "                      nn.Linear(5, 1))\n",
    "optimizer = optim.SGD(model.parameters(), lr = 0.001, weight_decay = 1000.0)"
   ]
  },
  {
   "cell_type": "code",
   "execution_count": null,
   "metadata": {},
   "outputs": [],
   "source": [
    "for param in model.parameters():\n",
    "    print(param)"
   ]
  },
  {
   "cell_type": "code",
   "execution_count": null,
   "metadata": {},
   "outputs": [],
   "source": [
    "model.train()\n",
    "y = model(torch.ones(10, 2))\n",
    "\n",
    "# train w.r.t a loss function that wants to maximize output\n",
    "(1/sum(y)).backward()\n",
    "optimizer.step()"
   ]
  },
  {
   "cell_type": "code",
   "execution_count": null,
   "metadata": {},
   "outputs": [],
   "source": [
    "# weights have decreased\n",
    "for param in model.parameters():\n",
    "    print(param)"
   ]
  },
  {
   "cell_type": "markdown",
   "metadata": {},
   "source": [
    "## Batch Normalization"
   ]
  },
  {
   "cell_type": "code",
   "execution_count": null,
   "metadata": {},
   "outputs": [],
   "source": [
    "# model with batch normalization\n",
    "class TwoLayerNN_BN(nn.Module):\n",
    "    def __init__(self, input_dim, hidden_dim, output_dim):\n",
    "        super(TwoLayerNN_BN, self).__init__()\n",
    "        self.linear1 = nn.Linear(input_dim, hidden_dim)\n",
    "        self.linear2 = nn.Linear(hidden_dim, output_dim)\n",
    "        self.relu = nn.ReLU()\n",
    "        \n",
    "        # we input the number of features to be normalizing across a batch\n",
    "        self.bn = nn.BatchNorm1d(hidden_dim)\n",
    "        \n",
    "    def forward(self, x):\n",
    "        x = self.linear1(x)\n",
    "        \n",
    "        # add batch normalization before activation\n",
    "        x = self.bn(x)\n",
    "        x = self.relu(x)\n",
    "        \n",
    "        x = self.linear2(x)\n",
    "        # no batch norm for final output!\n",
    "        \n",
    "        return torch.squeeze(x)"
   ]
  },
  {
   "cell_type": "code",
   "execution_count": null,
   "metadata": {},
   "outputs": [],
   "source": [
    "model = TwoLayerNN_BN(2, 5, 1)\n",
    "bn_layer = model.bn\n",
    "\n",
    "# note that batch normalization intializes with pure mini-batch noramlization\n",
    "# will change during training\n",
    "for param in bn_layer.parameters():\n",
    "    print(param)"
   ]
  },
  {
   "cell_type": "markdown",
   "metadata": {},
   "source": [
    "## Early Stopping\n",
    "- ideas\n",
    " * stop training after validation loss does not improve after so many epochs\n",
    " * save model parameters after each epoch if they are a new minimum validation loss"
   ]
  },
  {
   "cell_type": "code",
   "execution_count": null,
   "metadata": {},
   "outputs": [],
   "source": [
    "import seaborn as sns\n",
    "mpg = sns.load_dataset('mpg')\n",
    "mpg.head()"
   ]
  },
  {
   "cell_type": "code",
   "execution_count": null,
   "metadata": {},
   "outputs": [],
   "source": [
    "class MPGDataset(Dataset):\n",
    "    def __init__(self, df):\n",
    "        self.df = df\n",
    "    \n",
    "    def __len__(self):\n",
    "        return len(self.df)\n",
    "    \n",
    "    def __getitem__(self, idx):\n",
    "        row = self.df.iloc[idx]\n",
    "        x = torch.tensor([row['displacement'],\n",
    "                          row['weight']]).float()\n",
    "        \n",
    "        y = torch.tensor(row['mpg']).float()\n",
    "        \n",
    "        return x, y\n",
    "\n",
    "# train/val split\n",
    "mpg_train = mpg[100:].reset_index(drop=True)\n",
    "mpg_val = mpg[:100].reset_index(drop=True)\n",
    "mpg_train_ds = MPGDataset(mpg_train)\n",
    "mpg_val_ds = MPGDataset(mpg_val)\n",
    "\n",
    "# load into dataloader\n",
    "mpg_train_dl = DataLoader(mpg_train_ds, batch_size=50, shuffle=True)\n",
    "mpg_val_dl = DataLoader(mpg_val_ds, batch_size=100, shuffle=False)"
   ]
  },
  {
   "cell_type": "code",
   "execution_count": null,
   "metadata": {},
   "outputs": [],
   "source": [
    "# vanilla two-layer\n",
    "class TwoLayerNN(nn.Module):\n",
    "    def __init__(self, input_dim, hidden_dim, output_dim):\n",
    "        super(TwoLayerNN, self).__init__()\n",
    "        self.linear1 = nn.Linear(input_dim, hidden_dim)\n",
    "        self.linear2 = nn.Linear(hidden_dim, output_dim)\n",
    "        self.relu = nn.ReLU()\n",
    "        \n",
    "    def forward(self, x):\n",
    "        x = self.linear1(x)\n",
    "        x = self.relu(x)     \n",
    "        x = self.linear2(x)\n",
    "        return torch.squeeze(x)"
   ]
  },
  {
   "cell_type": "code",
   "execution_count": null,
   "metadata": {},
   "outputs": [],
   "source": [
    "# large network to induce overfitting\n",
    "model = TwoLayerNN(2, 10, 1)\n",
    "lossFun = nn.L1Loss()\n",
    "optimizer = optim.Adam(model.parameters(), lr = 0.001)"
   ]
  },
  {
   "cell_type": "code",
   "execution_count": null,
   "metadata": {
    "scrolled": false
   },
   "outputs": [],
   "source": [
    "from tqdm.notebook import tqdm\n",
    "\n",
    "# collect losses\n",
    "avg_train = []\n",
    "avg_val = []\n",
    "\n",
    "for epoch in tqdm(range(500)):\n",
    "    train_losses = []\n",
    "    for x, y in mpg_train_dl:\n",
    "        \n",
    "        model.train()\n",
    "        \n",
    "        y_pred = model(x)\n",
    "        loss = lossFun(y_pred, y)\n",
    "        train_losses.append(loss.item())\n",
    "        \n",
    "        optimizer.zero_grad()\n",
    "        \n",
    "        loss.backward()\n",
    "        optimizer.step()\n",
    "    \n",
    "    avg_train.append(sum(train_losses) / len(train_losses))\n",
    "    \n",
    "    for x, y in mpg_val_dl:\n",
    "        model.eval()\n",
    "        \n",
    "        y_pred = model(x)\n",
    "        loss = lossFun(y_pred, y)\n",
    "        \n",
    "        avg_val.append(loss.item())"
   ]
  },
  {
   "cell_type": "code",
   "execution_count": null,
   "metadata": {},
   "outputs": [],
   "source": [
    "import matplotlib.pyplot as plt\n",
    "\n",
    "# plot losses\n",
    "plt.plot(avg_train)\n",
    "plt.plot(avg_val)\n",
    "plt.show()"
   ]
  },
  {
   "cell_type": "markdown",
   "metadata": {},
   "source": [
    "What about with batch normalization?"
   ]
  },
  {
   "cell_type": "code",
   "execution_count": null,
   "metadata": {},
   "outputs": [],
   "source": [
    "model = TwoLayerNN_BN(2, 10, 1)\n",
    "lossFun = nn.L1Loss()\n",
    "optimizer = optim.Adam(model.parameters(), lr = 0.001)\n",
    "\n",
    "# collect losses\n",
    "avg_train = []\n",
    "avg_val = []\n",
    "\n",
    "for epoch in tqdm(range(500)):\n",
    "    train_losses = []\n",
    "    for x, y in mpg_train_dl:\n",
    "        \n",
    "        model.train()\n",
    "        \n",
    "        y_pred = model(x)\n",
    "        loss = lossFun(y_pred, y)\n",
    "        train_losses.append(loss.item())\n",
    "        \n",
    "        optimizer.zero_grad()\n",
    "        \n",
    "        loss.backward()\n",
    "        optimizer.step()\n",
    "    \n",
    "    avg_train.append(sum(train_losses) / len(train_losses))\n",
    "    \n",
    "    for x, y in mpg_val_dl:\n",
    "        model.eval()\n",
    "        \n",
    "        y_pred = model(x)\n",
    "        loss = lossFun(y_pred, y)\n",
    "        \n",
    "        avg_val.append(loss.item())\n",
    "        \n",
    "plt.plot(avg_train)\n",
    "plt.plot(avg_val)\n",
    "plt.show()"
   ]
  },
  {
   "cell_type": "markdown",
   "metadata": {},
   "source": [
    "## Categorical Embeddings\n",
    "- let's include the make of the car in our model"
   ]
  },
  {
   "cell_type": "code",
   "execution_count": null,
   "metadata": {},
   "outputs": [],
   "source": [
    "mpg.head()"
   ]
  },
  {
   "cell_type": "code",
   "execution_count": null,
   "metadata": {},
   "outputs": [],
   "source": [
    "makes = []\n",
    "for idx in range(len(mpg)):\n",
    "    row = mpg.iloc[idx]\n",
    "    makes.append(row['name'].split(' ')[0])\n",
    "mpg['make'] = makes\n",
    "mpg.head()"
   ]
  },
  {
   "cell_type": "code",
   "execution_count": null,
   "metadata": {},
   "outputs": [],
   "source": [
    "# create an index for possible values of make\n",
    "# sort of like a one-hot-encoding here\n",
    "make_dict = {make: i for i, make in enumerate(set(makes))}\n",
    "make_dict"
   ]
  },
  {
   "cell_type": "code",
   "execution_count": null,
   "metadata": {},
   "outputs": [],
   "source": [
    "class MPGDataset(Dataset):\n",
    "    def __init__(self, df):\n",
    "        self.df = df\n",
    "    \n",
    "    def __len__(self):\n",
    "        return len(self.df)\n",
    "    \n",
    "    def __getitem__(self, idx):\n",
    "        row = self.df.iloc[idx]\n",
    "        make_idx = make_dict[row['make']]\n",
    "        \n",
    "        x1 = torch.tensor([row['displacement'],\n",
    "                          row['weight']]).float()\n",
    "        \n",
    "        x2 = torch.tensor(make_idx)\n",
    "        \n",
    "        y = torch.tensor(row['mpg']).float()\n",
    "        \n",
    "        return x1, x2, y\n",
    "    \n",
    "mpg_ds = MPGDataset(mpg)\n",
    "\n",
    "# note the second tensor\n",
    "next(iter(mpg_ds))"
   ]
  },
  {
   "cell_type": "code",
   "execution_count": null,
   "metadata": {},
   "outputs": [],
   "source": [
    "# let's add an embedding layer\n",
    "class TwoLayerNN_Emb(nn.Module):\n",
    "    def __init__(self, input_dim, hidden_dim, output_dim):\n",
    "        super(TwoLayerNN_Emb, self).__init__()\n",
    "        self.linear1 = nn.Linear(input_dim, hidden_dim)\n",
    "        self.linear2 = nn.Linear(hidden_dim, output_dim)\n",
    "        \n",
    "        # first argument is number of values, next is size of embedding\n",
    "        self.emb = nn.Embedding(len(make_dict), 2)\n",
    "        \n",
    "        # let's keep in batch normalization\n",
    "        self.bn = nn.BatchNorm1d(hidden_dim)\n",
    "        self.relu = nn.ReLU()\n",
    "        \n",
    "    def forward(self, x1, x2):\n",
    "        \n",
    "        x2 = self.emb(x2)\n",
    "        \n",
    "        # concatenate the vectors along dim=1, skipping batch dim\n",
    "        x = torch.cat((x1, x2), dim=1)\n",
    "        \n",
    "        x = self.linear1(x)\n",
    "        x = self.bn(x)\n",
    "        x = self.relu(x)\n",
    "        \n",
    "        x = self.linear2(x)\n",
    "        \n",
    "        return torch.squeeze(x)"
   ]
  },
  {
   "cell_type": "code",
   "execution_count": null,
   "metadata": {},
   "outputs": [],
   "source": [
    "mpg_dl = DataLoader(mpg_ds, batch_size=50, shuffle=True)\n",
    "\n",
    "# what is the correct dimension here?\n",
    "model = TwoLayerNN_Emb(4, 5, 1)\n",
    "x1, x2, y = next(iter(mpg_dl))\n",
    "model(x1, x2)"
   ]
  },
  {
   "cell_type": "markdown",
   "metadata": {},
   "source": [
    "Let's train it the same way we did above"
   ]
  },
  {
   "cell_type": "code",
   "execution_count": null,
   "metadata": {},
   "outputs": [],
   "source": [
    "# train/val split\n",
    "mpg_train = mpg[100:].reset_index(drop=True)\n",
    "mpg_val = mpg[:100].reset_index(drop=True)\n",
    "mpg_train_ds = MPGDataset(mpg_train)\n",
    "mpg_val_ds = MPGDataset(mpg_val)\n",
    "\n",
    "# load into dataloader\n",
    "mpg_train_dl = DataLoader(mpg_train_ds, batch_size=50, shuffle=True)\n",
    "mpg_val_dl = DataLoader(mpg_val_ds, batch_size=100, shuffle=False)"
   ]
  },
  {
   "cell_type": "code",
   "execution_count": null,
   "metadata": {},
   "outputs": [],
   "source": [
    "lossFun = nn.L1Loss()\n",
    "optimizer = optim.Adam(model.parameters(), lr = 0.001)\n",
    "\n",
    "# collect losses\n",
    "avg_train = []\n",
    "avg_val = []\n",
    "\n",
    "for epoch in tqdm(range(500)):\n",
    "    train_losses = []\n",
    "    for x1, x2, y in mpg_train_dl:\n",
    "        \n",
    "        model.train()\n",
    "        \n",
    "        y_pred = model(x1, x2)\n",
    "        loss = lossFun(y_pred, y)\n",
    "        train_losses.append(loss.item())\n",
    "        \n",
    "        optimizer.zero_grad()\n",
    "        \n",
    "        loss.backward()\n",
    "        optimizer.step()\n",
    "    \n",
    "    avg_train.append(sum(train_losses) / len(train_losses))\n",
    "    \n",
    "    for x1, x2, y in mpg_val_dl:\n",
    "        model.eval()\n",
    "        \n",
    "        y_pred = model(x1, x2)\n",
    "        loss = lossFun(y_pred, y)\n",
    "        \n",
    "        avg_val.append(loss.item())"
   ]
  },
  {
   "cell_type": "code",
   "execution_count": null,
   "metadata": {},
   "outputs": [],
   "source": [
    "plt.plot(avg_train)\n",
    "plt.plot(avg_val)\n",
    "plt.show()"
   ]
  },
  {
   "cell_type": "code",
   "execution_count": null,
   "metadata": {},
   "outputs": [],
   "source": [
    "# let's look at the embedding matrix\n",
    "for param in model.emb.parameters():\n",
    "    print(param)"
   ]
  },
  {
   "cell_type": "code",
   "execution_count": null,
   "metadata": {},
   "outputs": [],
   "source": [
    "# compare embeddings for vw and volkswagon\n",
    "for param in model.emb.parameters():\n",
    "    print(param[?], param[?])"
   ]
  },
  {
   "cell_type": "code",
   "execution_count": null,
   "metadata": {},
   "outputs": [],
   "source": []
  }
 ],
 "metadata": {
  "kernelspec": {
   "display_name": "Python 3",
   "language": "python",
   "name": "python3"
  },
  "language_info": {
   "codemirror_mode": {
    "name": "ipython",
    "version": 3
   },
   "file_extension": ".py",
   "mimetype": "text/x-python",
   "name": "python",
   "nbconvert_exporter": "python",
   "pygments_lexer": "ipython3",
   "version": "3.8.10"
  }
 },
 "nbformat": 4,
 "nbformat_minor": 4
}
